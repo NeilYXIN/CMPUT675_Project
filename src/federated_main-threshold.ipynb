{
 "cells": [
  {
   "cell_type": "code",
   "execution_count": 1,
   "id": "5c65609f-63a2-4a64-bba2-b27a2e601e16",
   "metadata": {},
   "outputs": [],
   "source": [
    "#!/usr/bin/env python\n",
    "# -*- coding: utf-8 -*-\n",
    "# Python version: 3.6\n",
    "\n",
    "\n",
    "import os\n",
    "import copy\n",
    "import time\n",
    "import pickle\n",
    "import numpy as np\n",
    "from tqdm import tqdm\n",
    "\n",
    "import torch\n",
    "from tensorboardX import SummaryWriter\n",
    "\n",
    "import argparse\n",
    "from options import args_parser\n",
    "from update import LocalUpdate, test_inference\n",
    "from models import MLP, CNNMnist, CNNFashion_Mnist, CNNCifar\n",
    "from utils import get_dataset, average_weights, exp_details\n",
    "\n",
    "\n"
   ]
  },
  {
   "cell_type": "code",
   "execution_count": 2,
   "id": "a204d617-f6ab-4248-b5f2-daad5da4ddf6",
   "metadata": {},
   "outputs": [
    {
     "name": "stdout",
     "output_type": "stream",
     "text": [
      "here3\n",
      "here2\n",
      "\n",
      "Experimental details:\n",
      "    Model     : mlp\n",
      "    Optimizer : sgd\n",
      "    Learning  : 0.01\n",
      "    Global Rounds   : 10\n",
      "\n",
      "    Federated parameters:\n",
      "    IID\n",
      "    Fraction of users  : 0.1\n",
      "    Local Batch size   : 10\n",
      "    Local Epochs       : 10\n",
      "\n",
      "here1\n"
     ]
    }
   ],
   "source": [
    "# if __name__ == '__main__':\n",
    "start_time = time.time()\n",
    "\n",
    "# define paths\n",
    "path_project = os.path.abspath('..')\n",
    "logger = SummaryWriter('../logs')\n",
    "print('here3')\n",
    "\n",
    "args = args_parser()\n",
    "print('here2')\n",
    "exp_details(args)\n",
    "print('here1')\n",
    "device = 'cuda' if args.gpu else 'cpu'\n",
    "\n",
    "if args.gpu:\n",
    "    torch.cuda.set_device(args.gpu)\n",
    "\n",
    "    \n",
    "    \n",
    "# load dataset and user groups\n",
    "train_dataset, test_dataset, user_groups = get_dataset(args)\n",
    "\n",
    "# BUILD MODEL\n",
    "if args.model == 'cnn':\n",
    "    # Convolutional neural netork\n",
    "    if args.dataset == 'mnist':\n",
    "        global_model = CNNMnist(args=args)\n",
    "    elif args.dataset == 'fmnist':\n",
    "        global_model = CNNFashion_Mnist(args=args)\n",
    "    elif args.dataset == 'cifar':\n",
    "        global_model = CNNCifar(args=args)\n",
    "\n",
    "elif args.model == 'mlp':\n",
    "    # Multi-layer preceptron\n",
    "    img_size = train_dataset[0][0].shape\n",
    "    len_in = 1\n",
    "    for x in img_size:\n",
    "        len_in *= x\n",
    "        global_model = MLP(dim_in=len_in, dim_hidden=64,\n",
    "                           dim_out=args.num_classes)\n",
    "else:\n",
    "    print('Error: unrecognized model')\n",
    "\n"
   ]
  },
  {
   "cell_type": "code",
   "execution_count": 3,
   "id": "95a6b0a4-345c-41f6-b804-7848a1320ba8",
   "metadata": {},
   "outputs": [],
   "source": [
    "from matplotlib import pyplot as plt\n"
   ]
  },
  {
   "cell_type": "code",
   "execution_count": 4,
   "id": "5475e4d7-d923-47bd-9676-728367fedf2e",
   "metadata": {},
   "outputs": [],
   "source": [
    "\n",
    "# num_users=100\n",
    "# test=np.random.exponential(scale=1.0, size=num_users)\n",
    "# print(test)\n",
    "# plt.hist(test)\n",
    "# plt.show()\n",
    "# norm=np.random.normal(loc=1.19865, scale=1.0, size=num_users)\n",
    "# print(norm)\n",
    "# plt.plot(np.arange(norm.size),norm)\n",
    "# plt.show()"
   ]
  },
  {
   "cell_type": "code",
   "execution_count": 5,
   "id": "0d0e4e3d-9c97-497f-9eba-d57302be9b29",
   "metadata": {},
   "outputs": [],
   "source": [
    "# (-0.4242+2.8215)/2"
   ]
  },
  {
   "cell_type": "code",
   "execution_count": 6,
   "id": "5f856bc7-3dc8-408e-bf0b-8273604a57d3",
   "metadata": {},
   "outputs": [],
   "source": [
    "# def gen_response_time(num_users=args.num_users):\n",
    "#     np.random.exponential(scale=1.0, size=num_users)\n",
    "    "
   ]
  },
  {
   "cell_type": "code",
   "execution_count": 7,
   "id": "c8b34fd6-cd2c-4499-a6e7-28972aef7af5",
   "metadata": {},
   "outputs": [
    {
     "name": "stdout",
     "output_type": "stream",
     "text": [
      "MLP(\n",
      "  (layer_input): Linear(in_features=784, out_features=64, bias=True)\n",
      "  (relu): ReLU()\n",
      "  (dropout): Dropout(p=0.5, inplace=False)\n",
      "  (layer_hidden): Linear(in_features=64, out_features=10, bias=True)\n",
      "  (softmax): Softmax(dim=1)\n",
      ")\n"
     ]
    },
    {
     "name": "stderr",
     "output_type": "stream",
     "text": [
      "  0%|                                                    | 0/10 [00:00<?, ?it/s]"
     ]
    },
    {
     "name": "stdout",
     "output_type": "stream",
     "text": [
      "\n",
      " | Global Training Round : 1 |\n",
      "\n",
      "[ 4.99249047 17.21465396 21.39139132  2.19515846 11.03112953  6.39964461\n",
      "  1.6486552   8.07050254  0.50586462 14.99218015]\n"
     ]
    },
    {
     "name": "stderr",
     "output_type": "stream",
     "text": [
      "/Users/xin/Developer/CMPUT675_Project/src/update.py:23: UserWarning: To copy construct from a tensor, it is recommended to use sourceTensor.clone().detach() or sourceTensor.clone().detach().requires_grad_(True), rather than torch.tensor(sourceTensor).\n",
      "  return torch.tensor(image), torch.tensor(label)\n",
      "  0%|                                                    | 0/10 [00:01<?, ?it/s]"
     ]
    },
    {
     "name": "stdout",
     "output_type": "stream",
     "text": [
      "test_accu: 0.5666666666666667  test loss: -4.088653311133385\n"
     ]
    },
    {
     "name": "stderr",
     "output_type": "stream",
     "text": [
      "\n"
     ]
    },
    {
     "ename": "TypeError",
     "evalue": "float() argument must be a string or a number, not 'collections.OrderedDict'",
     "output_type": "error",
     "traceback": [
      "\u001b[0;31m---------------------------------------------------------------------------\u001b[0m",
      "\u001b[0;31mTypeError\u001b[0m                                 Traceback (most recent call last)",
      "\u001b[0;32m/var/folders/n_/bh3_hq7n7mdgkzkk2m5sc9lw0000gn/T/ipykernel_35678/1218886948.py\u001b[0m in \u001b[0;36m<module>\u001b[0;34m\u001b[0m\n\u001b[1;32m     45\u001b[0m         w, loss, test_acc = local_model.update_weights(\n\u001b[1;32m     46\u001b[0m             model=copy.deepcopy(global_model), global_round=epoch)\n\u001b[0;32m---> 47\u001b[0;31m         \u001b[0mlocal_weights\u001b[0m\u001b[0;34m[\u001b[0m\u001b[0midx\u001b[0m\u001b[0;34m]\u001b[0m\u001b[0;34m=\u001b[0m\u001b[0;34m(\u001b[0m\u001b[0mcopy\u001b[0m\u001b[0;34m.\u001b[0m\u001b[0mdeepcopy\u001b[0m\u001b[0;34m(\u001b[0m\u001b[0mw\u001b[0m\u001b[0;34m)\u001b[0m\u001b[0;34m)\u001b[0m\u001b[0;34m\u001b[0m\u001b[0;34m\u001b[0m\u001b[0m\n\u001b[0m\u001b[1;32m     48\u001b[0m         \u001b[0mlocal_losses\u001b[0m\u001b[0;34m[\u001b[0m\u001b[0midx\u001b[0m\u001b[0;34m]\u001b[0m\u001b[0;34m=\u001b[0m\u001b[0;34m(\u001b[0m\u001b[0mcopy\u001b[0m\u001b[0;34m.\u001b[0m\u001b[0mdeepcopy\u001b[0m\u001b[0;34m(\u001b[0m\u001b[0mloss\u001b[0m\u001b[0;34m)\u001b[0m\u001b[0;34m)\u001b[0m\u001b[0;34m\u001b[0m\u001b[0;34m\u001b[0m\u001b[0m\n\u001b[1;32m     49\u001b[0m         \u001b[0mtest_accs\u001b[0m\u001b[0;34m[\u001b[0m\u001b[0midx\u001b[0m\u001b[0;34m]\u001b[0m\u001b[0;34m=\u001b[0m\u001b[0mtest_acc\u001b[0m\u001b[0;34m\u001b[0m\u001b[0;34m\u001b[0m\u001b[0m\n",
      "\u001b[0;31mTypeError\u001b[0m: float() argument must be a string or a number, not 'collections.OrderedDict'"
     ]
    }
   ],
   "source": [
    "# Set the model to train and send it to device.\n",
    "global_model.to(device)\n",
    "global_model.train()\n",
    "print(global_model)\n",
    "\n",
    "# copy weights\n",
    "global_weights = global_model.state_dict()\n",
    "\n",
    "# Training\n",
    "train_loss, train_accuracy = [], []\n",
    "val_acc_list, net_list = [], []\n",
    "cv_loss, cv_acc = [], []\n",
    "print_every = 2\n",
    "val_loss_pre, counter = 0, 0\n",
    "res_times_epochs = []\n",
    "selected_user_idxs_epochs=[]\n",
    "average_time_epochs=[]\n",
    "test_accs_epochs=[]\n",
    "noise_levels_epochs=[]\n",
    "seed=20\n",
    "max_time_epochs=[]\n",
    "# np.random.seed(seed)\n",
    "R = 10\n",
    "threshold=0.7\n",
    "\n",
    "for epoch in tqdm(range(args.epochs)):\n",
    "    test_accs=np.zeros(args.num_users)\n",
    "    local_weights=np.zeros(args.num_users)\n",
    "    local_losses = np.zeros(args.num_users)\n",
    "    print(f'\\n | Global Training Round : {epoch+1} |\\n')\n",
    "    res_times=np.random.exponential(scale=10, size=args.num_users)\n",
    "    res_times_epochs.append(res_times)\n",
    "    print(res_times[:10])\n",
    "    sorted_time_idx=np.argsort(res_times, axis=- 1, kind=None, order=None)\n",
    "    noise_levels = np.random.uniform(low=0, high=1, size=args.num_users) # noise level for norm dist, 0 mean, this is var\n",
    "    noise_levels_epochs.append(noise_levels)\n",
    "    global_model.train()\n",
    "    # m = max(int(args.frac * args.num_users), 1)\n",
    "    # idxs_users = np.random.choice(range(args.num_users), m, replace=False)\n",
    "    idxs_users = np.arange(args.num_users)\n",
    "    # selected_user_idxs_epochs.append(idxs_users)\n",
    "    for idx in sorted_time_idx:\n",
    "        local_model = LocalUpdate(args=args, dataset=train_dataset,\n",
    "                                  idxs=user_groups[idx], logger=logger, noise_level=noise_levels[idx], seed=seed)\n",
    "        w, loss, test_acc = local_model.update_weights(\n",
    "            model=copy.deepcopy(global_model), global_round=epoch)\n",
    "        local_weights[idx]=(copy.deepcopy(w))\n",
    "        local_losses[idx]=(copy.deepcopy(loss))\n",
    "        test_accs[idx]=test_acc\n",
    "        \n",
    "        selected_user_idxs=[]\n",
    "        selected_local_weights=[]\n",
    "\n",
    "        average_time=0\n",
    "        max_time=0\n",
    "        \n",
    "        if len(selected_user_idxs) + (args.num_users-idx) <= R:\n",
    "            selected_user_idxs.append(sorted_time_idx[idx])\n",
    "            selected_local_weights.append(copy.deepcopy(local_weights[sorted_time_idx[idx]]))\n",
    "            average_time+=res_times[sorted_time_idx[idx]]\n",
    "            max_time=max(max_time, res_times[sorted_time_idx[idx]])\n",
    "\n",
    "        \n",
    "        elif test_accs[sorted_time_idx[idx]] > threshold:        \n",
    "            selected_user_idxs.append(sorted_time_idx[idx])\n",
    "            selected_local_weights.append(copy.deepcopy(local_weights[sorted_time_idx[idx]]))\n",
    "            average_time+=res_times[sorted_time_idx[idx]]\n",
    "            max_time=max(max_time, res_times[sorted_time_idx[idx]])\n",
    "            \n",
    "        if len(selected_user_idxs)==R:\n",
    "            break;\n",
    "        \n",
    "    test_accs_epochs.append(test_accs)\n",
    "    \n",
    "\n",
    "#     for i in range(args.num_users):\n",
    "#         if len(selected_user_idxs) + (args.num_users-i) <= R:\n",
    "#             selected_user_idxs.append(sorted_time_idx[i])\n",
    "#             selected_local_weights.append(copy.deepcopy(local_weights[sorted_time_idx[i]]))\n",
    "#             average_time+=res_times[sorted_time_idx[i]]\n",
    "#             max_time=max(max_time, res_times[sorted_time_idx[i]])\n",
    "\n",
    "        \n",
    "#         elif test_accs[sorted_time_idx[i]] > threshold:        \n",
    "#             selected_user_idxs.append(sorted_time_idx[i])\n",
    "#             selected_local_weights.append(copy.deepcopy(local_weights[sorted_time_idx[i]]))\n",
    "#             average_time+=res_times[sorted_time_idx[i]]\n",
    "#             max_time=max(max_time, res_times[sorted_time_idx[i]])\n",
    "            \n",
    "#         if len(selected_user_idxs)==R:\n",
    "#             break;\n",
    "#         if test_accs\n",
    "#         average_time+=res_times[idx]\n",
    "#         max_time = max(max_time, res_times[idx])\n",
    "    \n",
    "    average_time = average_time/len(idxs_users)\n",
    "    average_time_epochs.append(average_time)\n",
    "    max_time_epochs.append(max_time)\n",
    "    selected_user_idxs_epochs.append(selected_user_idxs)\n",
    "    # update global weights\n",
    "    # global_weights = average_weights(local_weights)\n",
    "    global_weights = average_weights(selected_local_weights)\n",
    "    \n",
    "    # update global weights\n",
    "    global_model.load_state_dict(global_weights)\n",
    "\n",
    "    loss_avg = sum(local_losses) / len(local_losses)\n",
    "    train_loss.append(loss_avg)\n",
    "\n",
    "    # Calculate avg training accuracy over all users at every epoch\n",
    "    list_acc, list_loss = [], []\n",
    "    global_model.eval()\n",
    "    for c in range(args.num_users):\n",
    "        local_model = LocalUpdate(args=args, dataset=train_dataset,\n",
    "                                  idxs=user_groups[idx], logger=logger, noise_level=noise_levels[idx], seed=seed)\n",
    "        acc, loss = local_model.inference(model=global_model)\n",
    "        list_acc.append(acc)\n",
    "        list_loss.append(loss)\n",
    "    train_accuracy.append(sum(list_acc)/len(list_acc))\n",
    "\n",
    "    # print global training loss after every 'i' rounds\n",
    "    if (epoch+1) % print_every == 0:\n",
    "        print(f' \\nAvg Training Stats after {epoch+1} global rounds:')\n",
    "        print(f'Training Loss : {np.mean(np.array(train_loss))}')\n",
    "        print('Train Accuracy: {:.2f}% \\n'.format(100*train_accuracy[-1]))\n",
    "\n"
   ]
  },
  {
   "cell_type": "code",
   "execution_count": null,
   "id": "20762342-1a2b-499e-a6c6-051cde869b59",
   "metadata": {},
   "outputs": [],
   "source": [
    "# Test inference after completion of training\n",
    "test_acc, test_loss = test_inference(args, global_model, test_dataset)\n",
    "\n",
    "print(f' \\n Results after {args.epochs} global rounds of training:')\n",
    "print(\"|---- Avg Train Accuracy: {:.2f}%\".format(100*train_accuracy[-1]))\n",
    "print(\"|---- Test Accuracy: {:.2f}%\".format(100*test_acc))\n",
    "\n",
    "# Saving the objects train_loss and train_accuracy:\n",
    "file_name = '../save/objects/{}_{}_{}_C[{}]_iid[{}]_E[{}]_B[{}].pkl'.\\\n",
    "    format(args.dataset, args.model, args.epochs, args.frac, args.iid,\n",
    "           args.local_ep, args.local_bs)\n",
    "\n",
    "with open(file_name, 'wb') as f:\n",
    "    pickle.dump([train_loss, train_accuracy], f)\n",
    "\n",
    "print('\\n Total Run Time: {0:0.4f}'.format(time.time()-start_time))\n",
    "\n",
    "print(np.mean(average_time_epochs))\n",
    "print(np.mean(max_time_epochs))"
   ]
  },
  {
   "cell_type": "code",
   "execution_count": null,
   "id": "86b90fe9-c941-465b-bb59-811f84224039",
   "metadata": {},
   "outputs": [],
   "source": [
    "print(average_time_epochs)\n",
    "print(max_time_epochs)"
   ]
  },
  {
   "cell_type": "code",
   "execution_count": null,
   "id": "cefad019-8e46-4098-9291-d7d3541afecd",
   "metadata": {},
   "outputs": [],
   "source": [
    "# PLOTTING (optional)\n",
    "# import matplotlib\n",
    "# import matplotlib.pyplot as plt\n",
    "# matplotlib.use('Agg')\n",
    "\n",
    "# Plot Loss curve\n",
    "# plt.figure()\n",
    "# plt.title('Training Loss vs Communication rounds')\n",
    "# plt.plot(range(len(train_loss)), train_loss, color='r')\n",
    "# plt.ylabel('Training loss')\n",
    "# plt.xlabel('Communication Rounds')\n",
    "# plt.savefig('../save/fed_{}_{}_{}_C[{}]_iid[{}]_E[{}]_B[{}]_loss.png'.\n",
    "#             format(args.dataset, args.model, args.epochs, args.frac,\n",
    "#                    args.iid, args.local_ep, args.local_bs))\n",
    "#\n",
    "# # Plot Average Accuracy vs Communication rounds\n",
    "# plt.figure()\n",
    "# plt.title('Average Accuracy vs Communication rounds')\n",
    "# plt.plot(range(len(train_accuracy)), train_accuracy, color='k')\n",
    "# plt.ylabel('Average Accuracy')\n",
    "# plt.xlabel('Communication Rounds')\n",
    "# plt.savefig('../save/fed_{}_{}_{}_C[{}]_iid[{}]_E[{}]_B[{}]_acc.png'.\n",
    "#             format(args.dataset, args.model, args.epochs, args.frac,\n",
    "#                    args.iid, args.local_ep, args.local_bs))\n"
   ]
  },
  {
   "cell_type": "code",
   "execution_count": null,
   "id": "fe6dee27-c8f4-492c-b306-d5b9fef9f0c0",
   "metadata": {},
   "outputs": [],
   "source": [
    "(79.39+73.32+70.74+76.65+77.48)/5"
   ]
  },
  {
   "cell_type": "code",
   "execution_count": null,
   "id": "3558dc26-1f43-4b7d-a46b-3931311f4868",
   "metadata": {},
   "outputs": [],
   "source": [
    "(100/30+15*15/60+800/60)/5*72"
   ]
  },
  {
   "cell_type": "code",
   "execution_count": null,
   "id": "701533e6-5964-4bb5-a7c6-1ac78f9ff6aa",
   "metadata": {},
   "outputs": [],
   "source": [
    "214.0625/15/(2*(1-13.75/15))"
   ]
  },
  {
   "cell_type": "code",
   "execution_count": null,
   "id": "6883a199-f74c-4344-b823-febe87feeb72",
   "metadata": {},
   "outputs": [],
   "source": [
    "0.5 * 95.625 + 0.25 * 100.625 + 0.25 *105.625"
   ]
  },
  {
   "cell_type": "code",
   "execution_count": null,
   "id": "b2994d17-ea86-4344-8d69-26883c554a8b",
   "metadata": {},
   "outputs": [],
   "source": [
    "0.5  *  25.3125 + 0.25  *51.75 + 0.25  *314"
   ]
  },
  {
   "cell_type": "code",
   "execution_count": null,
   "id": "5b32c089-388d-4012-93c8-a8aa52944605",
   "metadata": {},
   "outputs": [],
   "source": [
    "(100/30+15*15/60)/5*9"
   ]
  },
  {
   "cell_type": "code",
   "execution_count": null,
   "id": "91b500df-13d4-47ea-a08b-8c22da186dcb",
   "metadata": {},
   "outputs": [],
   "source": [
    "13.75*13.75/15/(2*(1-13.75/15))"
   ]
  },
  {
   "cell_type": "code",
   "execution_count": null,
   "id": "f743b2ab-c13b-4c0b-b393-ea01885076b0",
   "metadata": {},
   "outputs": [],
   "source": [
    "0.5 * 15.3125 + 0.25 *27.75 + 0.25 *342"
   ]
  },
  {
   "cell_type": "code",
   "execution_count": null,
   "id": "9d4e3dbe-b5d7-46c5-81d6-35951c707e72",
   "metadata": {},
   "outputs": [],
   "source": [
    "0.5*10+0.25*15+ 0.25*20"
   ]
  },
  {
   "cell_type": "code",
   "execution_count": null,
   "id": "0529258f-2202-426c-825b-f445cad3ebef",
   "metadata": {},
   "outputs": [],
   "source": []
  }
 ],
 "metadata": {
  "kernelspec": {
   "display_name": "Python 3 (ipykernel)",
   "language": "python",
   "name": "python3"
  },
  "language_info": {
   "codemirror_mode": {
    "name": "ipython",
    "version": 3
   },
   "file_extension": ".py",
   "mimetype": "text/x-python",
   "name": "python",
   "nbconvert_exporter": "python",
   "pygments_lexer": "ipython3",
   "version": "3.8.12"
  }
 },
 "nbformat": 4,
 "nbformat_minor": 5
}
