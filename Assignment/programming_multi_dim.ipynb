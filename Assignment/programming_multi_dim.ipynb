{
 "cells": [
  {
   "cell_type": "code",
   "execution_count": 1,
   "id": "ce64e13a-373d-4d69-8c7e-e4d29b34e651",
   "metadata": {},
   "outputs": [],
   "source": [
    "import numpy as np\n",
    "from ortools.algorithms import pywrapknapsack_solver\n"
   ]
  },
  {
   "cell_type": "code",
   "execution_count": 2,
   "id": "328ee78c-ad0b-4c7d-9887-36ed9f8793e4",
   "metadata": {},
   "outputs": [],
   "source": [
    "# generate input sequence\n",
    "def gen_inputs(T, weight_low, weight_high, p_min, p_max):\n",
    "    weights = []\n",
    "    for dim in range(2):\n",
    "        inner_weights=np.zeros(T)\n",
    "        for i in range(T):\n",
    "            tmp=int(np.random.uniform(low=weight_low, high=weight_high))\n",
    "            while tmp==0:\n",
    "                tmp=int(np.random.uniform(low=weight_low, high=weight_high))\n",
    "            inner_weights[i] = tmp\n",
    "        weights.append(list(inner_weights))\n",
    "    \n",
    "    dens = np.random.uniform(low=p_min, high=p_max, size=T)\n",
    "    values = list(np.multiply(np.mean(weights, axis=0),dens).astype(int))\n",
    "    # print(weights[:10])\n",
    "    # print(dens[:10])\n",
    "    # print(values[:10])\n",
    "    return values, weights   "
   ]
  },
  {
   "cell_type": "markdown",
   "id": "07b76f13-6afa-4753-9baf-3854278b2bd1",
   "metadata": {},
   "source": [
    "## Online Threshold Solver"
   ]
  },
  {
   "cell_type": "code",
   "execution_count": 4,
   "id": "09b3d7a8-bb02-4ad9-89f1-712f3e24308a",
   "metadata": {},
   "outputs": [],
   "source": [
    "def get_phi(ys, beta, p_min, capacities):\n",
    "    y=np.mean(ys)\n",
    "    if y < beta:\n",
    "        return p_min\n",
    "    elif beta <= y and ys[0] <= capacities[0] and ys[1] <= capacities[1]:\n",
    "        return p_min * np.exp(y / beta - 1)\n",
    "    else: \n",
    "        print(\"ERROR! y exceeds max capacity!\")\n",
    "    \n",
    "def get_total_vals(values, x_ts):\n",
    "    total_val = 0\n",
    "    for i in range(len(x_ts)):\n",
    "        total_val += values[i]*x_ts[i]\n",
    "    return total_val\n",
    "\n",
    "def get_total_cap(weights, x_ts):\n",
    "    total_caps=[0,0]\n",
    "    for i in range(len(x_ts)):\n",
    "        total_caps[0] += weights[0][i]*x_ts[i]\n",
    "        total_caps[1] += weights[1][i]*x_ts[i]\n",
    "\n",
    "    return total_caps"
   ]
  },
  {
   "cell_type": "code",
   "execution_count": 5,
   "id": "2b70670a-ba8c-4c84-bbed-601e4b481913",
   "metadata": {},
   "outputs": [],
   "source": [
    "def threshold_solver(values, weights, capacities, p_min, p_max):\n",
    "    sigma=10**-10 # handle zero weight\n",
    "\n",
    "    beta=1/(1+np.log(p_max/p_min))\n",
    "    beta=beta*capacities[0]\n",
    "    # print('beta', beta)\n",
    "    dim=len(weights)\n",
    "    T = len(values)\n",
    "    ys_ts = np.zeros((dim, T))\n",
    "    x_ts = np.zeros(T)\n",
    "    # load = 0\n",
    "    \n",
    "    for t in range(T):\n",
    "        item_value = values[t]\n",
    "        \n",
    "        item_weights=[weights[0][t], weights[1][t]]\n",
    "        for i in range(len(item_weights)):\n",
    "            if item_weights[i] == 0:\n",
    "                item_weights[i] += sigma\n",
    "\n",
    "        val_densities = [item_value/item_weights[0], item_value/item_weights[1]]\n",
    "\n",
    "        # get p_t\n",
    "        p_t = p_min\n",
    "        if t > 0:\n",
    "            p_t = get_phi([ys_ts[0][t-1], ys_ts[1][t-1]], beta, p_min, capacities)\n",
    "        # print('t:', t, ' p_t:', p_t, ' val_den:', val_density)\n",
    "        # accept\n",
    "        if np.mean(val_densities) >= p_t and ys_ts[0][t-1] + item_weights[0] <= capacities[0] and ys_ts[1][t-1] + item_weights[1] <= capacities[0]:\n",
    "            x_ts[t] = 1\n",
    "        # deny\n",
    "        else:\n",
    "            x_ts[t] = 0\n",
    "        ys_ts[0][t] = ys_ts[0][t-1] + item_weights[0]*x_ts[t]\n",
    "        ys_ts[1][t] = ys_ts[1][t-1] + item_weights[1]*x_ts[t]\n",
    "        # capacity is full, end loop\n",
    "        if ys_ts[0][t] == capacities[0] or ys_ts[1][t] == capacities[1]:\n",
    "            break;\n",
    "    alpha=beta\n",
    "    return ys_ts, x_ts, alpha"
   ]
  },
  {
   "cell_type": "code",
   "execution_count": 6,
   "id": "2da9b925-21fc-4e88-83ce-87a93bd03001",
   "metadata": {},
   "outputs": [],
   "source": [
    " def get_online_res(values, weights, capacities, p_min, p_max):\n",
    "    # min_den=10**10\n",
    "    # max_den=0\n",
    "    # sigma=10**-10\n",
    "    # for i in range(len(values)):\n",
    "    #     tmp_den = values[i]/(weights[0][i])\n",
    "    #     # print(tmp_den)\n",
    "    #     min_den = min(min_den, tmp_den)\n",
    "    #     max_den = max(max_den, tmp_den)\n",
    "    # print(min_den)\n",
    "    # print(max_den)\n",
    "\n",
    "#     p_min=10\n",
    "#     p_max= max_den+10\n",
    "\n",
    "    ys_ts, x_ts, alpha = threshold_solver(values, weights, capacities, p_min, p_max)\n",
    "    total_val = get_total_vals(values, x_ts)\n",
    "    total_cap=get_total_cap(weights, x_ts)\n",
    "    # print('total value:', total_val)\n",
    "    # print('total weight:', total_cap)\n",
    "    # print('alpha:', alpha)\n",
    "    return total_val, total_cap, alpha, x_ts\n",
    "    # print('y_ts:', y_ts)\n",
    "    # print('x_ts:', x_ts)"
   ]
  },
  {
   "cell_type": "code",
   "execution_count": 7,
   "id": "ae8e10c1-13a3-48eb-af4e-adb4743a0dc9",
   "metadata": {},
   "outputs": [],
   "source": [
    "# print(1/(1+np.log(p_max/p_min)))\n",
    "# print(np.log(p_max/p_min))"
   ]
  },
  {
   "cell_type": "markdown",
   "id": "5fc21ba5-ebf4-4b68-a0ce-e95b9717d04a",
   "metadata": {},
   "source": [
    "## Offline Solver from OR-Tools"
   ]
  },
  {
   "cell_type": "code",
   "execution_count": 8,
   "id": "b902aed0-fb4c-4ec7-9540-efc9bd42c07d",
   "metadata": {},
   "outputs": [],
   "source": [
    "# MULTIDIMENSION_CBC_MIP_SOLVER\n",
    "solver = pywrapknapsack_solver.KnapsackSolver(\n",
    "    pywrapknapsack_solver.KnapsackSolver.\n",
    "    KNAPSACK_MULTIDIMENSION_CBC_MIP_SOLVER, 'KnapsackExample')\n"
   ]
  },
  {
   "cell_type": "code",
   "execution_count": 9,
   "id": "eb875f13-b7f5-4dd8-b15b-6e04b18b803c",
   "metadata": {},
   "outputs": [],
   "source": [
    "def get_offline_res(values, weights, capacities):\n",
    "    solver.Init(values, weights, capacities)\n",
    "    computed_value = solver.Solve()\n",
    "    packed_items = []\n",
    "    packed_weights = []\n",
    "    total_weight = [0,0]\n",
    "    # print('Total value =', computed_value)\n",
    "    for i in range(len(values)):\n",
    "        if solver.BestSolutionContains(i):\n",
    "            packed_items.append(i)\n",
    "            packed_weights.append([weights[0][i], weights[1][i]])\n",
    "            total_weight[0] += weights[0][i]\n",
    "            total_weight[1] += weights[1][i]\n",
    "\n",
    "    # print('Total weight:', total_weight)\n",
    "    # print('Packed items:', packed_items)\n",
    "    # print('Packed_weights:', packed_weights)\n",
    "    return computed_value, total_weight, packed_items"
   ]
  },
  {
   "cell_type": "markdown",
   "id": "b6b921f2-e82c-4eca-9252-e3a7f1c97715",
   "metadata": {},
   "source": [
    "## Infinitesimal Setting (Q3)"
   ]
  },
  {
   "cell_type": "code",
   "execution_count": 65,
   "id": "f98e0ed5-13e1-41df-a181-79600cb0e80c",
   "metadata": {},
   "outputs": [],
   "source": [
    "## infinitesimal setting\n",
    "weight_highs=np.ones(10)\n",
    "for i in range(len(weight_highs)):\n",
    "    weight_highs[i] = 10 * 10**i\n",
    "print(weight_highs)\n",
    "\n",
    "cr_list_highs=[]\n",
    "for weight_high in weight_highs:\n",
    "    cr_list=[]\n",
    "    for itrs in range(100):\n",
    "        T=100\n",
    "\n",
    "        # infinitesimal setting\n",
    "        p_min= 1\n",
    "        p_max= 100\n",
    "        weight_low = 1\n",
    "        # weight_high = 1e-5\n",
    "\n",
    "\n",
    "        values, weights = gen_inputs(T=T, weight_low=weight_low, weight_high=weight_high, p_min=p_min, p_max=p_max)\n",
    "        # capacities=[max(1, int(np.sum(weights)/2))]\n",
    "        capacities=[10**10, 10**10]\n",
    "        # p_max= 10\n",
    "        # print('Capacities:', capacities)\n",
    "\n",
    "        total_val, total_cap, alpha, x_ts = get_online_res(values, weights, capacities, p_min, p_max)\n",
    "        packed_idx=[i for i, e in enumerate(x_ts) if e != 0]\n",
    "\n",
    "        computed_value, total_weight, packed_items = get_offline_res(values, weights, capacities)\n",
    "        # cr = total_cap/total_weight\n",
    "        cr = np.divide(np.sum(total_cap), np.sum(total_weight))\n",
    "        # print(total_weight)\n",
    "        # print(total_cap)\n",
    "\n",
    "        cr_list.append(cr)\n",
    "        # print('Empirical C.R.:', cr)\n",
    "    cr_list_highs.append(cr_list)\n",
    "\n",
    "        # print('Theoretical C.R.:', alpha)\n",
    "        # print(np.array_equal(packed_idx, packed_items))"
   ]
  },
  {
   "cell_type": "code",
   "execution_count": null,
   "id": "5fdd1d2b-61a8-4683-bf36-43f80ff6d9b8",
   "metadata": {},
   "outputs": [],
   "source": [
    "# print(len(packed_items))\n",
    "# print(packed_items)"
   ]
  },
  {
   "cell_type": "code",
   "execution_count": 67,
   "id": "1a93b9d0-5290-4d7d-8000-69dff0a18a41",
   "metadata": {},
   "outputs": [],
   "source": [
    "cr_means=[]\n",
    "cr_stds=[]\n",
    "for i in range(len(cr_list_highs)):\n",
    "    cr_list = cr_list_highs[i]\n",
    "    cr_means.append(np.mean(cr_list))\n",
    "    cr_stds.append(np.std(cr_list))"
   ]
  },
  {
   "cell_type": "code",
   "execution_count": 68,
   "id": "f75dc91f-daab-4693-bdb6-6326f87dd756",
   "metadata": {},
   "outputs": [
    {
     "data": {
      "text/plain": [
       "[0.9986233443524949,\n",
       " 1.0,\n",
       " 1.0,\n",
       " 1.0,\n",
       " 1.0,\n",
       " 1.0,\n",
       " 1.0,\n",
       " 0.9897396703725114,\n",
       " 0.9767875739170258,\n",
       " 0.918733372903452]"
      ]
     },
     "execution_count": 68,
     "metadata": {},
     "output_type": "execute_result"
    }
   ],
   "source": [
    "print(cr_means)"
   ]
  },
  {
   "cell_type": "code",
   "execution_count": 69,
   "id": "bddffee8-c09a-4dd3-bdb1-c2598d058912",
   "metadata": {},
   "outputs": [
    {
     "data": {
      "text/plain": [
       "[0.003225020554787209,\n",
       " 0.0,\n",
       " 0.0,\n",
       " 0.0,\n",
       " 0.0,\n",
       " 0.0,\n",
       " 0.0,\n",
       " 0.013004915328016509,\n",
       " 0.015527663878928517,\n",
       " 0.05599427823765819]"
      ]
     },
     "execution_count": 69,
     "metadata": {},
     "output_type": "execute_result"
    }
   ],
   "source": [
    "print(cr_stds)"
   ]
  },
  {
   "cell_type": "markdown",
   "id": "1902ed9c-498d-46a6-ae3a-6a68a463b609",
   "metadata": {},
   "source": [
    "## Non-infinitesimal Setting (Bonus)"
   ]
  },
  {
   "cell_type": "code",
   "execution_count": 74,
   "id": "7c5018de-f39e-4310-bf2a-0f7ef5299b3b",
   "metadata": {},
   "outputs": [
    {
     "name": "stdout",
     "output_type": "stream",
     "text": [
      "[1.e+09 2.e+09 3.e+09 4.e+09 5.e+09 6.e+09 7.e+09 8.e+09 9.e+09 1.e+10]\n"
     ]
    }
   ],
   "source": [
    "## non-infinitesimal setting\n",
    "\n",
    "weight_lows=np.linspace(10**9, 10**10, num=10, endpoint=True)\n",
    "\n",
    "# weight_lows=np.ones(10)\n",
    "# for i in range(len(weight_lows)):\n",
    "#     weight_lows[i] = 10 * 10**i\n",
    "print(weight_lows)\n",
    "\n",
    "cr_list_highs=[]\n",
    "for weight_low in weight_lows:\n",
    "    cr_list=[]\n",
    "    for itrs in range(100):\n",
    "        T=100\n",
    "\n",
    "        # infinitesimal setting\n",
    "        p_min= 1\n",
    "        p_max= 100\n",
    "        # weight_low = 1\n",
    "        weight_high = 10**10\n",
    "\n",
    "\n",
    "        values, weights = gen_inputs(T=T, weight_low=weight_low, weight_high=weight_high, p_min=p_min, p_max=p_max)\n",
    "        # capacities=[max(1, int(np.sum(weights)/2))]\n",
    "        capacities=[10**10, 10**10]\n",
    "        # p_max= 10\n",
    "        # print('Capacities:', capacities)\n",
    "\n",
    "        total_val, total_cap, alpha, x_ts = get_online_res(values, weights, capacities, p_min, p_max)\n",
    "        packed_idx=[i for i, e in enumerate(x_ts) if e != 0]\n",
    "\n",
    "        computed_value, total_weight, packed_items = get_offline_res(values, weights, capacities)\n",
    "        # cr = total_cap/total_weight\n",
    "        cr = np.divide(np.sum(total_cap), np.sum(total_weight))\n",
    "        # print(total_weight)\n",
    "        # print(total_cap)\n",
    "\n",
    "        cr_list.append(cr)\n",
    "        # print('Empirical C.R.:', cr)\n",
    "    cr_list_highs.append(cr_list)\n",
    "\n",
    "        # print('Theoretical C.R.:', alpha)\n",
    "        # print(np.array_equal(packed_idx, packed_items))"
   ]
  },
  {
   "cell_type": "code",
   "execution_count": 75,
   "id": "32946db1-4a32-49ad-aba9-a65416274ab9",
   "metadata": {},
   "outputs": [],
   "source": [
    "cr_means=[]\n",
    "cr_stds=[]\n",
    "for i in range(len(cr_list_highs)):\n",
    "    cr_list = cr_list_highs[i]\n",
    "    cr_means.append(np.mean(cr_list))\n",
    "    cr_stds.append(np.std(cr_list))"
   ]
  },
  {
   "cell_type": "code",
   "execution_count": 76,
   "id": "9925d261-0c25-4f3b-a24c-03cc35918262",
   "metadata": {},
   "outputs": [
    {
     "data": {
      "text/plain": [
       "[0.8755471107466442,\n",
       " 0.857823048427452,\n",
       " 0.8497686559163795,\n",
       " 0.8306858450779745,\n",
       " 0.8242073072913898,\n",
       " 0.8824838278625229,\n",
       " 0.9134474674332508,\n",
       " 0.949871436474605,\n",
       " 0.9810758100970906,\n",
       " 1.0]"
      ]
     },
     "execution_count": 76,
     "metadata": {},
     "output_type": "execute_result"
    }
   ],
   "source": [
    "print(cr_means)"
   ]
  },
  {
   "cell_type": "code",
   "execution_count": 77,
   "id": "a701d651-9f72-4a19-89f4-3e073a09caef",
   "metadata": {},
   "outputs": [
    {
     "data": {
      "text/plain": [
       "[0.1310723621959483,\n",
       " 0.131955164118233,\n",
       " 0.1655979915325303,\n",
       " 0.1732383532939581,\n",
       " 0.14852661740967107,\n",
       " 0.10486455564247682,\n",
       " 0.07486230248330367,\n",
       " 0.049110235931654526,\n",
       " 0.025514082939548696,\n",
       " 0.0]"
      ]
     },
     "execution_count": 77,
     "metadata": {},
     "output_type": "execute_result"
    }
   ],
   "source": [
    "print(cr_stds)"
   ]
  },
  {
   "cell_type": "code",
   "execution_count": null,
   "id": "d20fe3fd-c70e-4ad5-8c73-80c74218dbd1",
   "metadata": {},
   "outputs": [],
   "source": []
  }
 ],
 "metadata": {
  "kernelspec": {
   "display_name": "Python 3 (ipykernel)",
   "language": "python",
   "name": "python3"
  },
  "language_info": {
   "codemirror_mode": {
    "name": "ipython",
    "version": 3
   },
   "file_extension": ".py",
   "mimetype": "text/x-python",
   "name": "python",
   "nbconvert_exporter": "python",
   "pygments_lexer": "ipython3",
   "version": "3.8.12"
  }
 },
 "nbformat": 4,
 "nbformat_minor": 5
}
