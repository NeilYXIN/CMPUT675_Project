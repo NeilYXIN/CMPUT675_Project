{
 "cells": [
  {
   "cell_type": "code",
   "execution_count": 1,
   "id": "ce64e13a-373d-4d69-8c7e-e4d29b34e651",
   "metadata": {},
   "outputs": [],
   "source": [
    "import numpy as np\n",
    "from ortools.algorithms import pywrapknapsack_solver\n"
   ]
  },
  {
   "cell_type": "code",
   "execution_count": 146,
   "id": "328ee78c-ad0b-4c7d-9887-36ed9f8793e4",
   "metadata": {},
   "outputs": [],
   "source": [
    "# Generate input sequences\n",
    "def gen_inputs(T, weight_low, weight_high, p_min, p_max):\n",
    "    weights = []\n",
    "    inner_weights=np.zeros(T)\n",
    "    for i in range(T):\n",
    "        tmp=int(np.random.uniform(low=weight_low, high=weight_high))\n",
    "        while tmp==0:\n",
    "            tmp=int(np.random.uniform(low=weight_low, high=weight_high))\n",
    "        inner_weights[i] = tmp\n",
    "    weights.append(list(inner_weights))\n",
    "    \n",
    "    dens = np.random.uniform(low=p_min, high=p_max, size=T)\n",
    "    values = list(np.multiply(weights[0],dens).astype(int))\n",
    "    # print(weights[:10])\n",
    "    # print(dens[:10])\n",
    "    # print(values[:10])\n",
    "    return values, weights"
   ]
  },
  {
   "cell_type": "markdown",
   "id": "33bff4ed-b0a1-4329-979f-27a686f68007",
   "metadata": {},
   "source": [
    "## Online Threshold Solver"
   ]
  },
  {
   "cell_type": "code",
   "execution_count": 147,
   "id": "09b3d7a8-bb02-4ad9-89f1-712f3e24308a",
   "metadata": {},
   "outputs": [],
   "source": [
    "def get_phi(y, beta, p_min, capacities):\n",
    "    if y < beta:\n",
    "        return p_min\n",
    "    elif beta <= y and y <= capacities[0]:\n",
    "        return p_min * np.exp(y / beta - 1)\n",
    "    else: \n",
    "        print(\"ERROR! y exceeds max capacity!\")\n",
    "\n",
    "def get_total_vals(values, x_ts):\n",
    "    total_val = 0\n",
    "    for i in range(len(x_ts)):\n",
    "        total_val += values[i]*x_ts[i]\n",
    "    return total_val\n",
    "\n",
    "def get_total_cap(weights, x_ts):\n",
    "    total_cap = 0\n",
    "    for i in range(len(x_ts)):\n",
    "        total_cap += weights[0][i]*x_ts[i]\n",
    "    return total_cap"
   ]
  },
  {
   "cell_type": "code",
   "execution_count": 148,
   "id": "2b70670a-ba8c-4c84-bbed-601e4b481913",
   "metadata": {},
   "outputs": [],
   "source": [
    "def threshold_solver(values, weights, capacities, p_min, p_max):\n",
    "    sigma=10**-10 # handle zero weight\n",
    "\n",
    "    beta=1/(1+np.log(p_max/p_min))\n",
    "    beta=beta*capacities[0]\n",
    "\n",
    "    # print('beta', beta)\n",
    "    T = len(values)\n",
    "    y_ts = np.zeros(T)\n",
    "    x_ts = np.zeros(T)\n",
    "    load = 0\n",
    "    \n",
    "    for t in range(T):\n",
    "        value = values[t]\n",
    "        weight = weights[0][t]\n",
    "        if weight == 0:\n",
    "            weight += sigma\n",
    "        val_density = value/weight\n",
    "        \n",
    "        # get p_t\n",
    "        p_t = p_min\n",
    "        if t > 0:\n",
    "            p_t = get_phi(y_ts[t-1], beta, p_min, capacities)\n",
    "        # print('t:', t, ' p_t:', p_t, ' val_den:', val_density)\n",
    "        \n",
    "        # accept        \n",
    "        if val_density >= p_t and y_ts[t-1] + weight <= capacities[0]:\n",
    "            x_ts[t] = 1\n",
    "        # deny\n",
    "        else:\n",
    "            x_ts[t] = 0\n",
    "            \n",
    "        if t==0:\n",
    "            y_ts[t] = weight*x_ts[t]\n",
    "\n",
    "        else:\n",
    "            y_ts[t] = y_ts[t-1] + weight*x_ts[t]\n",
    "        \n",
    "        # capacity is full, end loop\n",
    "        if y_ts[t] == capacities[0]:\n",
    "            break;\n",
    "    alpha=beta\n",
    "    return y_ts, x_ts, alpha"
   ]
  },
  {
   "cell_type": "code",
   "execution_count": 149,
   "id": "2da9b925-21fc-4e88-83ce-87a93bd03001",
   "metadata": {},
   "outputs": [],
   "source": [
    " def get_online_res(values, weights, capacities, p_min, p_max):\n",
    "    # min_den=10**10\n",
    "    # max_den=0\n",
    "    # sigma=10**-10\n",
    "    # for i in range(len(values)):\n",
    "    #     tmp_den = values[i]/(weights[0][i])\n",
    "    #     # print(tmp_den)\n",
    "    #     min_den = min(min_den, tmp_den)\n",
    "    #     max_den = max(max_den, tmp_den)\n",
    "    # print(min_den)\n",
    "    # print(max_den)\n",
    "\n",
    "#     p_min=10\n",
    "#     p_max= max_den+10\n",
    "\n",
    "    y_ts, x_ts, alpha = threshold_solver(values, weights, capacities, p_min, p_max)\n",
    "    total_val = get_total_vals(values, x_ts)\n",
    "    total_cap=get_total_cap(weights, x_ts)\n",
    "    # print('total value:', total_val)\n",
    "    # print('total weight:', total_cap)\n",
    "    # print('alpha:', alpha)\n",
    "    return total_val, total_cap, alpha, x_ts, y_ts\n",
    "    # print('y_ts:', y_ts)\n",
    "    # print('x_ts:', x_ts)"
   ]
  },
  {
   "cell_type": "code",
   "execution_count": 150,
   "id": "ae8e10c1-13a3-48eb-af4e-adb4743a0dc9",
   "metadata": {},
   "outputs": [],
   "source": [
    "# print(1/(1+np.log(p_max/p_min)))\n",
    "# print(np.log(p_max/p_min))"
   ]
  },
  {
   "cell_type": "markdown",
   "id": "5fc21ba5-ebf4-4b68-a0ce-e95b9717d04a",
   "metadata": {},
   "source": [
    "## Offline Solver from OR-Tools"
   ]
  },
  {
   "cell_type": "code",
   "execution_count": 152,
   "id": "eb875f13-b7f5-4dd8-b15b-6e04b18b803c",
   "metadata": {},
   "outputs": [],
   "source": [
    "# branch and bound solver\n",
    "def get_offline_res(values, weights, capacities):\n",
    "    solver = pywrapknapsack_solver.KnapsackSolver(\n",
    "    pywrapknapsack_solver.KnapsackSolver.\n",
    "    KNAPSACK_MULTIDIMENSION_BRANCH_AND_BOUND_SOLVER, 'KnapsackExample')\n",
    "    \n",
    "    solver.Init(values, weights, capacities)\n",
    "    computed_value = solver.Solve()\n",
    "    packed_items = []\n",
    "    packed_weights = []\n",
    "    total_weight = 0\n",
    "    # print('Total value =', computed_value)\n",
    "    for i in range(len(values)):\n",
    "        if solver.BestSolutionContains(i):\n",
    "            packed_items.append(i)\n",
    "            packed_weights.append(weights[0][i])\n",
    "            total_weight += weights[0][i]\n",
    "    # print('Total weight:', total_weight)\n",
    "    # print('Packed items:', packed_items)\n",
    "    # print('Packed_weights:', packed_weights)\n",
    "    return computed_value, total_weight, packed_items"
   ]
  },
  {
   "cell_type": "markdown",
   "id": "600c51b1-1f2f-4424-b884-3700badc71ab",
   "metadata": {},
   "source": [
    "## Infinitesimal Setting (Q1)"
   ]
  },
  {
   "cell_type": "code",
   "execution_count": 39,
   "id": "f98e0ed5-13e1-41df-a181-79600cb0e80c",
   "metadata": {},
   "outputs": [
    {
     "name": "stdout",
     "output_type": "stream",
     "text": [
      "[1.e+01 1.e+02 1.e+03 1.e+04 1.e+05 1.e+06 1.e+07 1.e+08 1.e+09 1.e+10]\n"
     ]
    }
   ],
   "source": [
    "# # infinitesimal setting\n",
    "weight_highs=np.ones(10)\n",
    "for i in range(len(weight_highs)):\n",
    "    # weight_highs[i] = 1e-10 * 10**i\n",
    "    weight_highs[i] = 10 * 10**i\n",
    "# weight_highs = np.linspace(1, 100, num=10, endpoint=True)\n",
    "\n",
    "print(weight_highs)\n",
    "    \n",
    "cr_list_highs=[]\n",
    "for weight_high in weight_highs:\n",
    "    cr_list=[]\n",
    "    for itrs in range(100):\n",
    "        T=100\n",
    "\n",
    "        # infinitesimal setting\n",
    "        p_min= 1\n",
    "        p_max= 100\n",
    "        weight_low = 1\n",
    "        # weight_high = 1e-1\n",
    "\n",
    "        values, weights = gen_inputs(T=T, weight_low=weight_low, weight_high=weight_high, p_min=p_min, p_max=p_max)\n",
    "        # print(values[:20])\n",
    "        # print(weights[:20])\n",
    "        # capacities=[max(1, int(np.sum(weights)/2))]\n",
    "        capacities=[10**10]\n",
    "\n",
    "        # print('Capacities:', capacities)\n",
    "\n",
    "        total_val, total_cap, alpha, x_ts, y_ts = get_online_res(values, weights, capacities, p_min, p_max)\n",
    "        packed_idx=[i for i, e in enumerate(x_ts) if e != 0]\n",
    "\n",
    "        computed_value, total_weight, packed_items = get_offline_res(values, weights, capacities)\n",
    "        # print(total_cap)\n",
    "        # print(total_weight)\n",
    "        cr = total_cap/total_weight\n",
    "        cr_list.append(cr)\n",
    "    cr_list_highs.append(cr_list)\n",
    "        # print('Empirical C.R.:', cr)\n",
    "        # print('Theoretical C.R.:', alpha)\n",
    "        # print(np.array_equal(packed_idx, packed_items))"
   ]
  },
  {
   "cell_type": "code",
   "execution_count": 40,
   "id": "6976c4a5-e51b-4769-9462-42ea136802ea",
   "metadata": {},
   "outputs": [],
   "source": [
    "cr_means=[]\n",
    "cr_stds=[]\n",
    "for i in range(len(cr_list_highs)):\n",
    "    cr_list = cr_list_highs[i]\n",
    "    # print('Trial', i)\n",
    "    # print('  ', cr_list)\n",
    "    # print('  ', np.mean(cr_list))\n",
    "    # print('  ', np.std(cr_list))\n",
    "    cr_means.append(np.mean(cr_list))\n",
    "    cr_stds.append(np.std(cr_list))\n",
    "    "
   ]
  },
  {
   "cell_type": "code",
   "execution_count": 41,
   "id": "8391339d-9233-4d11-9b61-35c3afaba72f",
   "metadata": {},
   "outputs": [
    {
     "data": {
      "text/plain": [
       "[1.0,\n",
       " 1.0,\n",
       " 1.0,\n",
       " 1.0,\n",
       " 1.0,\n",
       " 1.0,\n",
       " 1.0,\n",
       " 0.9885968121504445,\n",
       " 0.9917177510421179,\n",
       " 0.9751310345567551]"
      ]
     },
     "execution_count": 41,
     "metadata": {},
     "output_type": "execute_result"
    }
   ],
   "source": [
    "print(cr_means)"
   ]
  },
  {
   "cell_type": "code",
   "execution_count": 42,
   "id": "8afbcc2c-536f-43d7-96e9-55f0e24f4d96",
   "metadata": {},
   "outputs": [
    {
     "data": {
      "text/plain": [
       "[0.0,\n",
       " 0.0,\n",
       " 0.0,\n",
       " 0.0,\n",
       " 0.0,\n",
       " 0.0,\n",
       " 0.0,\n",
       " 0.012170832497202029,\n",
       " 0.006301298229186578,\n",
       " 0.02004519065184244]"
      ]
     },
     "execution_count": 42,
     "metadata": {},
     "output_type": "execute_result"
    }
   ],
   "source": [
    "print(cr_stds)"
   ]
  },
  {
   "cell_type": "markdown",
   "id": "2ff5bf52-40e9-441a-ba9b-213b63d53f79",
   "metadata": {},
   "source": [
    "## Non-infinitesimal Setting (Q2)"
   ]
  },
  {
   "cell_type": "code",
   "execution_count": 230,
   "id": "696adf57-568a-4a13-89b3-0d8eafd1300b",
   "metadata": {},
   "outputs": [
    {
     "name": "stdout",
     "output_type": "stream",
     "text": [
      "[1.e+09 2.e+09 3.e+09 4.e+09 5.e+09 6.e+09 7.e+09 8.e+09 9.e+09 1.e+10]\n"
     ]
    }
   ],
   "source": [
    "# non-infinitesimal setting\n",
    "weight_lows=np.linspace(10**9, 10**10, num=10, endpoint=True)\n",
    "\n",
    "# weight_lows=np.ones(10)\n",
    "# for i in range(len(weight_lows)):\n",
    "#     weight_lows[i] = 10 * 10**i\n",
    "print(weight_lows)\n",
    "\n",
    "# weight_lows=[10**(-3)]\n",
    "\n",
    "cr_list_highs=[]\n",
    "for weight_low in weight_lows:\n",
    "    cr_list=[]\n",
    "    for itrs in range(100):\n",
    "        T=100\n",
    "\n",
    "        # non-infinitesimal setting\n",
    "        p_min= 1\n",
    "        p_max= 100\n",
    "        # weight_low = 1e-2\n",
    "        weight_high = 10**10\n",
    "\n",
    "        values, weights = gen_inputs(T=T, weight_low=weight_low, weight_high=weight_high, p_min=p_min, p_max=p_max)\n",
    "        # capacities=[max(1, int(np.sum(weights)/2))]\n",
    "        capacities=[10**10]\n",
    "        # p_min= 1\n",
    "        # p_max= 300099\n",
    "        # print('Capacities:', capacities)\n",
    "\n",
    "        total_val, total_cap, alpha, x_ts, y_ts = get_online_res(values, weights, capacities, p_min, p_max)\n",
    "        packed_idx=[i for i, e in enumerate(x_ts) if e != 0]\n",
    "        # print(total_cap)\n",
    "        # print(x_ts)\n",
    "\n",
    "        computed_value, total_weight, packed_items = get_offline_res(values, weights, capacities)\n",
    "        # print(packed_items)\n",
    "        # print(total_weight)\n",
    "        cr = total_cap/total_weight\n",
    "        cr_list.append(cr)\n",
    "    cr_list_highs.append(cr_list)\n",
    "        # print('Empirical C.R.:', cr)\n",
    "        # print('Theoretical C.R.:', alpha)\n",
    "        # print(np.array_equal(packed_idx, packed_items))"
   ]
  },
  {
   "cell_type": "code",
   "execution_count": 231,
   "id": "5fdd1d2b-61a8-4683-bf36-43f80ff6d9b8",
   "metadata": {},
   "outputs": [],
   "source": [
    "cr_means=[]\n",
    "cr_stds=[]\n",
    "for i in range(len(cr_list_highs)):\n",
    "    cr_list = cr_list_highs[i]\n",
    "    # print('Trial', i)\n",
    "    # print('  ', cr_list)\n",
    "    # print('  ', np.mean(cr_list))\n",
    "    # print('  ', np.std(cr_list))\n",
    "    cr_means.append(np.mean(cr_list))\n",
    "    cr_stds.append(np.std(cr_list))\n",
    "    "
   ]
  },
  {
   "cell_type": "code",
   "execution_count": 233,
   "id": "2b6a071f-0d8e-4189-9217-9fdd1a6b59ec",
   "metadata": {},
   "outputs": [
    {
     "data": {
      "text/plain": [
       "[0.9683662843215227,\n",
       " 0.9291530801370044,\n",
       " 0.9091164642807523,\n",
       " 0.8652210891854952,\n",
       " 0.792163345730828,\n",
       " 0.8409095938799466,\n",
       " 0.8790134913321457,\n",
       " 0.9224685818398173,\n",
       " 0.96656832180425,\n",
       " 1.0]"
      ]
     },
     "execution_count": 233,
     "metadata": {},
     "output_type": "execute_result"
    }
   ],
   "source": [
    "print(cr_means)"
   ]
  },
  {
   "cell_type": "code",
   "execution_count": 234,
   "id": "b52568de-e6cf-45bd-9f52-c10b3f2442e0",
   "metadata": {},
   "outputs": [
    {
     "data": {
      "text/plain": [
       "[0.03609225944537068,\n",
       " 0.06793634979486571,\n",
       " 0.0903863565293656,\n",
       " 0.13283824147256487,\n",
       " 0.1582690300706349,\n",
       " 0.13509511087369852,\n",
       " 0.0934878640705934,\n",
       " 0.06272543666871325,\n",
       " 0.0339341597867519,\n",
       " 0.0]"
      ]
     },
     "execution_count": 234,
     "metadata": {},
     "output_type": "execute_result"
    }
   ],
   "source": [
    "print(cr_stds)"
   ]
  },
  {
   "cell_type": "code",
   "execution_count": null,
   "id": "304e6533-563d-45d2-a33b-7220415179a3",
   "metadata": {},
   "outputs": [],
   "source": [
    "# for i in range(len(x_ts)):\n",
    "#     if x_ts[i]==1:\n",
    "#         print(p_ts[i], values[i]/weights[0][i], y_ts[i])\n",
    "        \n",
    "# print('--')\n",
    "# weight_tmp=0\n",
    "# for j in packed_items:\n",
    "#     weight_tmp+=weights[0][j]\n",
    "#     print(p_ts[j], values[j]/weights[0][j], weight_tmp)"
   ]
  },
  {
   "cell_type": "code",
   "execution_count": null,
   "id": "2c838510-a981-4022-8f25-7c47f4a1ac56",
   "metadata": {},
   "outputs": [],
   "source": [
    "# print(packed_items)\n",
    "# # for i in packed_items:\n",
    "# #     print(packed_items[i])\n",
    "# #     print(values[packed_items[i]]/weights[0][packed_items[i]])"
   ]
  },
  {
   "cell_type": "code",
   "execution_count": null,
   "id": "44b6bb4a-7f9c-4427-b535-57b0b166e7ff",
   "metadata": {},
   "outputs": [],
   "source": [
    "# cr_means"
   ]
  },
  {
   "cell_type": "code",
   "execution_count": null,
   "id": "c37ee47e-8aa0-4cb9-b932-82d09b0edf71",
   "metadata": {},
   "outputs": [],
   "source": [
    "# cr_stds"
   ]
  },
  {
   "cell_type": "code",
   "execution_count": null,
   "id": "7c5018de-f39e-4310-bf2a-0f7ef5299b3b",
   "metadata": {},
   "outputs": [],
   "source": []
  },
  {
   "cell_type": "code",
   "execution_count": null,
   "id": "32946db1-4a32-49ad-aba9-a65416274ab9",
   "metadata": {},
   "outputs": [],
   "source": []
  }
 ],
 "metadata": {
  "kernelspec": {
   "display_name": "Python 3 (ipykernel)",
   "language": "python",
   "name": "python3"
  },
  "language_info": {
   "codemirror_mode": {
    "name": "ipython",
    "version": 3
   },
   "file_extension": ".py",
   "mimetype": "text/x-python",
   "name": "python",
   "nbconvert_exporter": "python",
   "pygments_lexer": "ipython3",
   "version": "3.8.12"
  }
 },
 "nbformat": 4,
 "nbformat_minor": 5
}
